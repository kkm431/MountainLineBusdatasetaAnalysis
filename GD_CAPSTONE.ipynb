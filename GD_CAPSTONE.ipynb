{
  "nbformat": 4,
  "nbformat_minor": 0,
  "metadata": {
    "colab": {
      "provenance": []
    },
    "kernelspec": {
      "name": "python3",
      "display_name": "Python 3"
    },
    "language_info": {
      "name": "python"
    }
  },
  "cells": [
    {
      "cell_type": "code",
      "execution_count": null,
      "metadata": {
        "id": "aEfhp2fIPZ_F"
      },
      "outputs": [],
      "source": [
        "import numpy as np\n",
        "import pandas as pd\n",
        "import matplotlib.pyplot as plt\n",
        "import seaborn as sns\n",
        "\n",
        "\n",
        "from sklearn.model_selection import train_test_split\n",
        "from sklearn.ensemble import RandomForestClassifier\n",
        "from sklearn.ensemble import RandomForestRegressor\n",
        "from sklearn.metrics import classification_report, confusion_matrix\n",
        "from sklearn.preprocessing import LabelEncoder\n",
        "\n",
        "\n",
        "\n",
        "from sklearn.linear_model import LinearRegression\n",
        "from sklearn.metrics import r2_score, mean_absolute_error, mean_squared_error\n"
      ]
    },
    {
      "cell_type": "code",
      "source": [
        "\n",
        "data = pd.read_csv('/content/GD_Python.csv')\n",
        "\n",
        "print(data.head())\n"
      ],
      "metadata": {
        "colab": {
          "base_uri": "https://localhost:8080/"
        },
        "id": "VyPVaE5TPgSk",
        "outputId": "23f11943-917b-457b-f116-99b0d601e0f8"
      },
      "execution_count": null,
      "outputs": [
        {
          "output_type": "stream",
          "name": "stdout",
          "text": [
            "                               Academic Plan  Bachelors  Masters  Doctorates  \\\n",
            "0                  Applied Linguistics (PHD)          0        0           1   \n",
            "1               Art Education - Major (BSED)          4        0           0   \n",
            "2  Comparative Cultural Studies - Major (BA)          6        0           0   \n",
            "3                  English - Literature (MA)          0        2           0   \n",
            "4                       English - Major (BA)         13        0           0   \n",
            "\n",
            "                  College Name Semester  Year Semester/Year  Grad or not  \n",
            "0  College of Arts and Letters     Fall  2023     Fall 2023            1  \n",
            "1  College of Arts and Letters     Fall  2023     Fall 2023            1  \n",
            "2  College of Arts and Letters     Fall  2023     Fall 2023            1  \n",
            "3  College of Arts and Letters     Fall  2023     Fall 2023            1  \n",
            "4  College of Arts and Letters     Fall  2023     Fall 2023            1  \n"
          ]
        }
      ]
    },
    {
      "cell_type": "code",
      "source": [
        "print(\"Data Description:\")\n",
        "print(data.describe(include='all'))"
      ],
      "metadata": {
        "colab": {
          "base_uri": "https://localhost:8080/"
        },
        "id": "nNc2xloTPnOT",
        "outputId": "1cf4cb68-1e2a-4440-fe70-b3a3945cd2b6"
      },
      "execution_count": null,
      "outputs": [
        {
          "output_type": "stream",
          "name": "stdout",
          "text": [
            "Data Description:\n",
            "                           Academic Plan    Bachelors      Masters  \\\n",
            "count                               2174  2174.000000  2174.000000   \n",
            "unique                               269          NaN          NaN   \n",
            "top     University Studies - Major (BUS)          NaN          NaN   \n",
            "freq                                  12          NaN          NaN   \n",
            "mean                                 NaN    12.873965     2.768629   \n",
            "std                                  NaN    27.203647     7.815245   \n",
            "min                                  NaN     0.000000     0.000000   \n",
            "25%                                  NaN     0.000000     0.000000   \n",
            "50%                                  NaN     2.000000     0.000000   \n",
            "75%                                  NaN    12.000000     2.000000   \n",
            "max                                  NaN   222.000000   125.000000   \n",
            "\n",
            "         Doctorates                               College Name Semester  \\\n",
            "count   2174.000000                                       2174     2174   \n",
            "unique          NaN                                          8        2   \n",
            "top             NaN  College of Social and Behavioral Sciences   Spring   \n",
            "freq            NaN                                        477     1170   \n",
            "mean       0.555658                                        NaN      NaN   \n",
            "std        5.335791                                        NaN      NaN   \n",
            "min        0.000000                                        NaN      NaN   \n",
            "25%        0.000000                                        NaN      NaN   \n",
            "50%        0.000000                                        NaN      NaN   \n",
            "75%        0.000000                                        NaN      NaN   \n",
            "max       96.000000                                        NaN      NaN   \n",
            "\n",
            "               Year Semester/Year  Grad or not  \n",
            "count   2174.000000          2174  2174.000000  \n",
            "unique          NaN            12          NaN  \n",
            "top             NaN   Spring 2023          NaN  \n",
            "freq            NaN           207          NaN  \n",
            "mean    2020.565777           NaN     0.997700  \n",
            "std        1.703532           NaN     0.047913  \n",
            "min     2018.000000           NaN     0.000000  \n",
            "25%     2019.000000           NaN     1.000000  \n",
            "50%     2021.000000           NaN     1.000000  \n",
            "75%     2022.000000           NaN     1.000000  \n",
            "max     2023.000000           NaN     1.000000  \n"
          ]
        }
      ]
    },
    {
      "cell_type": "code",
      "source": [
        "\n",
        "# Group by 'Semester/Year' and sum the counts for Bachelors, Masters, and Doctorates\n",
        "degree_totals = data.groupby('Semester/Year')[['Bachelors', 'Masters', 'Doctorates']].sum().reset_index()\n",
        "\n",
        "# Display the results\n",
        "print(degree_totals)\n"
      ],
      "metadata": {
        "colab": {
          "base_uri": "https://localhost:8080/"
        },
        "id": "k8uOHd4nRJdh",
        "outputId": "8abf3b09-a31e-4c16-e4f7-4fa14e26fda7"
      },
      "execution_count": null,
      "outputs": [
        {
          "output_type": "stream",
          "name": "stdout",
          "text": [
            "   Semester/Year  Bachelors  Masters  Doctorates\n",
            "0      Fall 2018       1494      346         104\n",
            "1      Fall 2019       1468      347         115\n",
            "2      Fall 2020       1427      316          17\n",
            "3      Fall 2021       1402      361         120\n",
            "4      Fall 2022       1276      381         119\n",
            "5      Fall 2023       1106      474         116\n",
            "6    Spring 2018       3233      540          62\n",
            "7    Spring 2019       3291      592          86\n",
            "8    Spring 2020       3440      627          88\n",
            "9    Spring 2021       3467      629         185\n",
            "10   Spring 2022       3324      638          87\n",
            "11   Spring 2023       3060      768         109\n"
          ]
        }
      ]
    },
    {
      "cell_type": "code",
      "source": [
        "bachelor_data = data.groupby(['Semester/Year'])['Bachelors'].sum().reset_index()\n",
        "masters_data = data.groupby(['Semester/Year'])['Masters'].sum().reset_index()\n",
        "doctorate_data = data.groupby(['Semester/Year'])['Doctorates'].sum().reset_index()"
      ],
      "metadata": {
        "id": "2nvgepG91o1Q"
      },
      "execution_count": null,
      "outputs": []
    },
    {
      "cell_type": "code",
      "source": [
        "def predict_graduates(grad_data, degree_type):\n",
        "    grad_data['Time'] = np.arange(len(grad_data))\n",
        "    X = grad_data[['Time']]  # Feature: Time index\n",
        "    y = grad_data[degree_type]  # Target: Sum of graduates\n",
        "\n",
        "    # Create and fit the linear regression model\n",
        "    model = LinearRegression()\n",
        "    model.fit(X, y)\n",
        "\n",
        "    # Predict for the existing data and for the next time index (e.g., Fall 2024)\n",
        "    y_pred = model.predict(X)  # Predictions for existing data\n",
        "    future_time = np.array([[len(grad_data)]])  # Next time index\n",
        "    predicted_grads = model.predict(future_time)\n",
        "\n",
        "    # Calculate accuracy metrics\n",
        "    r_squared = r2_score(y, y_pred)\n",
        "    mae = mean_absolute_error(y, y_pred)\n",
        "    mse = mean_squared_error(y, y_pred)\n",
        "\n",
        "    return predicted_grads[0], r_squared, mae, mse\n"
      ],
      "metadata": {
        "id": "qtighpmb1s-1"
      },
      "execution_count": null,
      "outputs": []
    },
    {
      "cell_type": "code",
      "source": [
        "predicted_bachelors, r2_bachelors, mae_bachelors, mse_bachelors = predict_graduates(bachelor_data, 'Bachelors')\n",
        "predicted_masters, r2_masters, mae_masters, mse_masters = predict_graduates(masters_data, 'Masters')\n",
        "predicted_doctorates, r2_doctorates, mae_doctorates, mse_doctorates = predict_graduates(doctorate_data, 'Doctorates')"
      ],
      "metadata": {
        "colab": {
          "base_uri": "https://localhost:8080/"
        },
        "id": "OBi7eSgL1vS1",
        "outputId": "8736a271-3607-4593-83a6-3a9adf8f43a5"
      },
      "execution_count": null,
      "outputs": [
        {
          "output_type": "stream",
          "name": "stderr",
          "text": [
            "/usr/local/lib/python3.10/dist-packages/sklearn/base.py:493: UserWarning: X does not have valid feature names, but LinearRegression was fitted with feature names\n",
            "  warnings.warn(\n",
            "/usr/local/lib/python3.10/dist-packages/sklearn/base.py:493: UserWarning: X does not have valid feature names, but LinearRegression was fitted with feature names\n",
            "  warnings.warn(\n",
            "/usr/local/lib/python3.10/dist-packages/sklearn/base.py:493: UserWarning: X does not have valid feature names, but LinearRegression was fitted with feature names\n",
            "  warnings.warn(\n"
          ]
        }
      ]
    },
    {
      "cell_type": "code",
      "source": [
        "print(f\"Predicted number of Bachelors for Fall 2024: {predicted_bachelors:.2f}, R-squared: {r2_bachelors:.2f}, MAE: {mae_bachelors:.2f}, MSE: {mse_bachelors:.2f}\")\n",
        "print(f\"Predicted number of Masters for Fall 2024: {predicted_masters:.2f}, R-squared: {r2_masters:.2f}, MAE: {mae_masters:.2f}, MSE: {mse_masters:.2f}\")\n",
        "print(f\"Predicted number of Doctorates for Fall 2024: {predicted_doctorates:.2f}, R-squared: {r2_doctorates:.2f}, MAE: {mae_doctorates:.2f}, MSE: {mse_doctorates:.2f}\")"
      ],
      "metadata": {
        "colab": {
          "base_uri": "https://localhost:8080/"
        },
        "id": "jANBl9Fx07Kq",
        "outputId": "fa8ed59c-c2c7-456a-f535-f8fe225f62be"
      },
      "execution_count": null,
      "outputs": [
        {
          "output_type": "stream",
          "name": "stdout",
          "text": [
            "Predicted number of Bachelors for Fall 2024: 3845.33, R-squared: 0.67, MAE: 477.42, MSE: 313694.84\n",
            "Predicted number of Masters for Fall 2024: 762.52, R-squared: 0.93, MAE: 35.08, MSE: 1530.66\n",
            "Predicted number of Doctorates for Fall 2024: 115.80, R-squared: 0.04, MAE: 30.10, MSE: 1385.43\n"
          ]
        }
      ]
    },
    {
      "cell_type": "code",
      "source": [
        "\n",
        "bachelor_data = data.groupby(['Semester/Year'])['Bachelors'].sum().reset_index()\n",
        "masters_data = data.groupby(['Semester/Year'])['Masters'].sum().reset_index()\n",
        "doctorate_data = data.groupby(['Semester/Year'])['Doctorates'].sum().reset_index()\n"
      ],
      "metadata": {
        "id": "WZMCQ-CC3TdT"
      },
      "execution_count": null,
      "outputs": []
    },
    {
      "cell_type": "code",
      "source": [
        "def predict_graduates_with_random_forest(grad_data, degree_type):\n",
        "    # Prepare the data for regression\n",
        "    grad_data['Time'] = np.arange(len(grad_data))  # Create a time index for regression\n",
        "    X = grad_data[['Time']]  # Feature: Time index\n",
        "    y = grad_data[degree_type]  # Target: Sum of graduates\n",
        "\n",
        "    # Create and fit the Random Forest regression model\n",
        "    model = RandomForestRegressor(n_estimators=100, random_state=42)\n",
        "    model.fit(X, y)\n",
        "\n",
        "    # Predict for existing data and for the next time index (e.g., Fall 2024)\n",
        "    y_pred = model.predict(X)  # Predictions for existing data\n",
        "    future_time = np.array([[len(grad_data)]])  # Next time index\n",
        "    predicted_grads = model.predict(future_time)\n",
        "\n",
        "    # Calculate accuracy metrics\n",
        "    r_squared = r2_score(y, y_pred)\n",
        "    mae = mean_absolute_error(y, y_pred)\n",
        "    mse = mean_squared_error(y, y_pred)\n",
        "\n",
        "    return predicted_grads[0], r_squared, mae, mse\n"
      ],
      "metadata": {
        "id": "LwjgLuQr4yb8"
      },
      "execution_count": null,
      "outputs": []
    },
    {
      "cell_type": "code",
      "source": [
        "predicted_bachelors, r2_bachelors, mae_bachelors, mse_bachelors = predict_graduates_with_random_forest(bachelor_data, 'Bachelors')\n",
        "predicted_masters, r2_masters, mae_masters, mse_masters = predict_graduates_with_random_forest(masters_data, 'Masters')\n",
        "predicted_doctorates, r2_doctorates, mae_doctorates, mse_doctorates = predict_graduates_with_random_forest(doctorate_data, 'Doctorates')\n"
      ],
      "metadata": {
        "colab": {
          "base_uri": "https://localhost:8080/"
        },
        "id": "PQNPEXe3gnCS",
        "outputId": "2e593975-45d0-47e5-fcc4-4356062c8fa0"
      },
      "execution_count": null,
      "outputs": [
        {
          "output_type": "stream",
          "name": "stderr",
          "text": [
            "/usr/local/lib/python3.10/dist-packages/sklearn/base.py:493: UserWarning: X does not have valid feature names, but RandomForestRegressor was fitted with feature names\n",
            "  warnings.warn(\n",
            "/usr/local/lib/python3.10/dist-packages/sklearn/base.py:493: UserWarning: X does not have valid feature names, but RandomForestRegressor was fitted with feature names\n",
            "  warnings.warn(\n",
            "/usr/local/lib/python3.10/dist-packages/sklearn/base.py:493: UserWarning: X does not have valid feature names, but RandomForestRegressor was fitted with feature names\n",
            "  warnings.warn(\n"
          ]
        }
      ]
    },
    {
      "cell_type": "code",
      "source": [
        "\n",
        "# Output the predicted values and accuracy metrics\n",
        "print(f\"Predicted number of Bachelors for Spring 2024: {predicted_bachelors:.2f}, R-squared: {r2_bachelors:.2f}, MAE: {mae_bachelors:.2f}, MSE: {mse_bachelors:.2f}\")\n",
        "print(f\"Predicted number of Masters for Spring 2024: {predicted_masters:.2f}, R-squared: {r2_masters:.2f}, MAE: {mae_masters:.2f}, MSE: {mse_masters:.2f}\")\n",
        "print(f\"Predicted number of Doctorates for Spring 2024: {predicted_doctorates:.2f}, R-squared: {r2_doctorates:.2f}, MAE: {mae_doctorates:.2f}, MSE: {mse_doctorates:.2f}\")\n"
      ],
      "metadata": {
        "colab": {
          "base_uri": "https://localhost:8080/"
        },
        "id": "W3n1AVwQhtaZ",
        "outputId": "52ea5d96-5a57-45be-e494-e58b85cf842f"
      },
      "execution_count": null,
      "outputs": [
        {
          "output_type": "stream",
          "name": "stdout",
          "text": [
            "Predicted number of Bachelors for Spring 2024: 3845.33, R-squared: 0.67, MAE: 477.42, MSE: 313694.84\n",
            "Predicted number of Masters for Spring 2024: 762.52, R-squared: 0.93, MAE: 35.08, MSE: 1530.66\n",
            "Predicted number of Doctorates for Spring 2024: 115.80, R-squared: 0.04, MAE: 30.10, MSE: 1385.43\n"
          ]
        }
      ]
    },
    {
      "cell_type": "code",
      "source": [
        "college_data = data.groupby('College Name').agg({\n",
        "    'Bachelors': 'sum',\n",
        "    'Masters': 'sum',\n",
        "    'Doctorates': 'sum'\n",
        "}).reset_index()"
      ],
      "metadata": {
        "id": "ErvBp25EiIO8"
      },
      "execution_count": null,
      "outputs": []
    },
    {
      "cell_type": "code",
      "source": [
        "\n",
        "# Prepare data for prediction\n",
        "college_data['Time'] = np.arange(len(college_data))  # Create a time index for regression\n"
      ],
      "metadata": {
        "id": "Y0pnZzG7jYdN"
      },
      "execution_count": null,
      "outputs": []
    },
    {
      "cell_type": "code",
      "source": [
        "def predict_graduates_with_random_forest(college_data, degree_type):\n",
        "    # Feature and target variable\n",
        "    X = college_data[['Time']]  # Feature: Time index\n",
        "    y = college_data[degree_type]  # Target: Sum of graduates\n",
        "\n",
        "    # Create and fit the Random Forest regression model\n",
        "    model = RandomForestRegressor(n_estimators=100, random_state=42)\n",
        "    model.fit(X, y)\n",
        "\n",
        "    # Predict for Spring 2025 (next time index)\n",
        "    future_time = np.array([[len(college_data)]])  # Next time index\n",
        "    predicted_grads = model.predict(future_time)\n",
        "\n",
        "    # Calculate accuracy metrics\n",
        "    y_pred = model.predict(X)  # Predictions for existing data\n",
        "    r_squared = r2_score(y, y_pred)\n",
        "    mae = mean_absolute_error(y, y_pred)\n",
        "    mse = mean_squared_error(y, y_pred)\n",
        "\n",
        "    return predicted_grads[0], r_squared, mae, mse\n"
      ],
      "metadata": {
        "id": "kAsin2x5jdEC"
      },
      "execution_count": null,
      "outputs": []
    },
    {
      "cell_type": "code",
      "source": [
        "predicted_bachelors, r2_bachelors, mae_bachelors, mse_bachelors = predict_graduates_with_random_forest(college_data, 'Bachelors')\n",
        "predicted_masters, r2_masters, mae_masters, mse_masters = predict_graduates_with_random_forest(college_data, 'Masters')\n",
        "predicted_doctorates, r2_doctorates, mae_doctorates, mse_doctorates = predict_graduates_with_random_forest(college_data, 'Doctorates')\n"
      ],
      "metadata": {
        "colab": {
          "base_uri": "https://localhost:8080/"
        },
        "id": "2YjrBqZCjeKP",
        "outputId": "6bfda66d-d90b-457c-f1e7-27afa84e8964"
      },
      "execution_count": null,
      "outputs": [
        {
          "output_type": "stream",
          "name": "stderr",
          "text": [
            "/usr/local/lib/python3.10/dist-packages/sklearn/base.py:493: UserWarning: X does not have valid feature names, but RandomForestRegressor was fitted with feature names\n",
            "  warnings.warn(\n",
            "/usr/local/lib/python3.10/dist-packages/sklearn/base.py:493: UserWarning: X does not have valid feature names, but RandomForestRegressor was fitted with feature names\n",
            "  warnings.warn(\n",
            "/usr/local/lib/python3.10/dist-packages/sklearn/base.py:493: UserWarning: X does not have valid feature names, but RandomForestRegressor was fitted with feature names\n",
            "  warnings.warn(\n"
          ]
        }
      ]
    },
    {
      "cell_type": "code",
      "source": [
        "print(\"Random Forest Regressor\")\n",
        "# Output the predicted values and accuracy metrics\n",
        "print(f\"Predicted number of Bachelors for Spring 2025: {predicted_bachelors:.2f}, R-squared: {r2_bachelors:.2f}, MAE: {mae_bachelors:.2f}, MSE: {mse_bachelors:.2f}\")\n",
        "print(f\"Predicted number of Masters for Spring 2025: {predicted_masters:.2f}, R-squared: {r2_masters:.2f}, MAE: {mae_masters:.2f}, MSE: {mse_masters:.2f}\")\n",
        "print(f\"Predicted number of Doctorates for Spring 2025: {predicted_doctorates:.2f}, R-squared: {r2_doctorates:.2f}, MAE: {mae_doctorates:.2f}, MSE: {mse_doctorates:.2f}\")\n"
      ],
      "metadata": {
        "colab": {
          "base_uri": "https://localhost:8080/"
        },
        "id": "0xKuIvZpjfC-",
        "outputId": "f2b98423-065b-47bf-fe86-22162147facd"
      },
      "execution_count": null,
      "outputs": [
        {
          "output_type": "stream",
          "name": "stdout",
          "text": [
            "Random Forest Regressor\n",
            "Predicted number of Bachelors for Spring 2025: 4300.72, R-squared: 0.87, MAE: 444.67, MSE: 397371.65\n",
            "Predicted number of Masters for Spring 2025: 306.83, R-squared: 0.75, MAE: 312.89, MSE: 182481.62\n",
            "Predicted number of Doctorates for Spring 2025: 18.58, R-squared: 0.77, MAE: 92.09, MSE: 15129.87\n"
          ]
        }
      ]
    },
    {
      "cell_type": "code",
      "source": [],
      "metadata": {
        "id": "jcHCqgFGFh3T"
      },
      "execution_count": null,
      "outputs": []
    }
  ]
}